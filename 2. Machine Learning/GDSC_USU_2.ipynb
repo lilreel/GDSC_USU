{
  "nbformat": 4,
  "nbformat_minor": 0,
  "metadata": {
    "colab": {
      "provenance": [],
      "authorship_tag": "ABX9TyPnhZ9Uo9IVHLm4r+XG6oky",
      "include_colab_link": true
    },
    "kernelspec": {
      "name": "python3",
      "display_name": "Python 3"
    },
    "language_info": {
      "name": "python"
    },
    "accelerator": "GPU",
    "gpuClass": "standard"
  },
  "cells": [
    {
      "cell_type": "markdown",
      "metadata": {
        "id": "view-in-github",
        "colab_type": "text"
      },
      "source": [
        "<a href=\"https://colab.research.google.com/github/lilreel/GDSC_USU/blob/main/2.%20Machine%20Learning/GDSC_USU_2.ipynb\" target=\"_parent\"><img src=\"https://colab.research.google.com/assets/colab-badge.svg\" alt=\"Open In Colab\"/></a>"
      ]
    },
    {
      "cell_type": "code",
      "execution_count": null,
      "metadata": {
        "id": "GonIWzr5lfbW"
      },
      "outputs": [],
      "source": [
        "dict_pilihan = {'r' : 'rock', 'p':'paper', 's':'scissor'}"
      ]
    },
    {
      "cell_type": "code",
      "source": [
        "list_pilihan = list(dict_pilihan.keys())"
      ],
      "metadata": {
        "id": "k58vqBmll1Ag"
      },
      "execution_count": null,
      "outputs": []
    },
    {
      "cell_type": "code",
      "source": [
        "def mulai(user, bot):\n",
        "  if user==bot:\n",
        "    return \"Seri\"\n",
        "  elif (user=='r' and bot=='s') or (user=='s' and bot=='p') or (user=='p' and bot=='r'):\n",
        "    return \"Menang\"\n",
        "  else:\n",
        "    return \"Kalah\""
      ],
      "metadata": {
        "id": "NnbtAeHgsFG-"
      },
      "execution_count": null,
      "outputs": []
    },
    {
      "cell_type": "code",
      "source": [
        "import random\n",
        "bot = random.choice(list_pilihan)\n",
        "user = input(\"Masukkan huruf : \")\n",
        "print(\"Bot : \",bot)\n",
        "print(\"Hasilnya kamu\",mulai(user, bot))"
      ],
      "metadata": {
        "colab": {
          "base_uri": "https://localhost:8080/"
        },
        "id": "BqSCyhNGmwEY",
        "outputId": "60636039-2c4c-4f1d-829f-f9443842adad"
      },
      "execution_count": null,
      "outputs": [
        {
          "output_type": "stream",
          "name": "stdout",
          "text": [
            "Masukkan huruf : p\n",
            "Bot :  p\n",
            "Hasilnya kamu Seri\n"
          ]
        }
      ]
    }
  ]
}